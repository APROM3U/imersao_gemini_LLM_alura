{
  "nbformat": 4,
  "nbformat_minor": 0,
  "metadata": {
    "colab": {
      "provenance": [],
      "authorship_tag": "ABX9TyN5I0auFJPId44FZHhxUR1J",
      "include_colab_link": true
    },
    "kernelspec": {
      "name": "python3",
      "display_name": "Python 3"
    },
    "language_info": {
      "name": "python"
    }
  },
  "cells": [
    {
      "cell_type": "markdown",
      "metadata": {
        "id": "view-in-github",
        "colab_type": "text"
      },
      "source": [
        "<a href=\"https://colab.research.google.com/github/APROM3U/imersao_gemini_LLM_alura/blob/main/gemini_alura.ipynb\" target=\"_parent\"><img src=\"https://colab.research.google.com/assets/colab-badge.svg\" alt=\"Open In Colab\"/></a>"
      ]
    },
    {
      "cell_type": "markdown",
      "source": [
        "Instalando o SDK do Google"
      ],
      "metadata": {
        "id": "6GvBaUV0O1m6"
      }
    },
    {
      "cell_type": "code",
      "execution_count": 1,
      "metadata": {
        "id": "_Vs7iQCbNQzj"
      },
      "outputs": [],
      "source": [
        "!pip install -q -U google-generativeai"
      ]
    },
    {
      "cell_type": "markdown",
      "source": [
        "-q: sem saída\n",
        "-U:"
      ],
      "metadata": {
        "id": "6Spq4xyWPGuR"
      }
    },
    {
      "cell_type": "code",
      "source": [
        "import google.generativeai as genai\n",
        "from google.colab import userdata\n",
        "api_key = userdata.get('SECRET_KEY')\n",
        "genai.configure(api_key=api_key)"
      ],
      "metadata": {
        "id": "5n2_7WxJPWKW"
      },
      "execution_count": 21,
      "outputs": []
    },
    {
      "cell_type": "markdown",
      "source": [
        "Listar os modelos disponíveis"
      ],
      "metadata": {
        "id": "iOLEY_BoQBa3"
      }
    },
    {
      "cell_type": "code",
      "source": [
        "for m in  genai.list_models():\n",
        "  if 'generateContent' in m.supported_generation_methods:\n",
        "    print(m.name)\n",
        ""
      ],
      "metadata": {
        "colab": {
          "base_uri": "https://localhost:8080/",
          "height": 139
        },
        "id": "EnF44Y4oPsOa",
        "outputId": "f1995639-9d8b-44e7-984b-914be2cc29e8"
      },
      "execution_count": 22,
      "outputs": [
        {
          "output_type": "stream",
          "name": "stdout",
          "text": [
            "models/gemini-1.0-pro\n",
            "models/gemini-1.0-pro-001\n",
            "models/gemini-1.0-pro-latest\n",
            "models/gemini-1.0-pro-vision-latest\n",
            "models/gemini-1.5-pro-latest\n",
            "models/gemini-pro\n",
            "models/gemini-pro-vision\n"
          ]
        }
      ]
    },
    {
      "cell_type": "markdown",
      "source": [
        "Configurando os parâmetros"
      ],
      "metadata": {
        "id": "3mK-K-MeR_W4"
      }
    },
    {
      "cell_type": "code",
      "source": [
        "generation_config = {\n",
        "    \"candidate_count\": 1,\n",
        "    \"temperature\": 0.7,\n",
        "    \"top_k\": 40,\n",
        "    \"top_p\": 0.95,\n",
        "}"
      ],
      "metadata": {
        "id": "7KlM8kdmRRRa"
      },
      "execution_count": 23,
      "outputs": []
    },
    {
      "cell_type": "markdown",
      "source": [
        "Parâmetros de segurança, FILTROS DE CONTEÚDO"
      ],
      "metadata": {
        "id": "RD0tU3gvSTzW"
      }
    },
    {
      "cell_type": "code",
      "source": [
        "safety_settings = {\n",
        "    \"HARASSMENT\": \"BLOCK_NONE\"\n",
        "}"
      ],
      "metadata": {
        "id": "RohNBWPvSDhf"
      },
      "execution_count": 24,
      "outputs": []
    },
    {
      "cell_type": "markdown",
      "source": [
        "Inicializando o modelo"
      ],
      "metadata": {
        "id": "UjEEbQMsS_gI"
      }
    },
    {
      "cell_type": "code",
      "source": [
        "model = genai.GenerativeModel(model_name=\"gemini-1.0-pro\",\n",
        "                              generation_config=generation_config,\n",
        "                              safety_settings=safety_settings)"
      ],
      "metadata": {
        "id": "3vOrkg4vS3qO"
      },
      "execution_count": 25,
      "outputs": []
    },
    {
      "cell_type": "code",
      "source": [
        "response = model.generate_content(\"Vamos aprender o que é Deep Learning?\")\n",
        "print(response.text)"
      ],
      "metadata": {
        "colab": {
          "base_uri": "https://localhost:8080/",
          "height": 593
        },
        "id": "3C8dpALaToJc",
        "outputId": "3fb85456-c3f0-41f6-e70f-a61e9ff026dd"
      },
      "execution_count": 26,
      "outputs": [
        {
          "output_type": "stream",
          "name": "stdout",
          "text": [
            "**O que é Deep Learning?**\n",
            "\n",
            "Deep Learning é um subcampo da Inteligência Artificial (IA) que se concentra em treinar redes neurais artificiais com várias camadas, conhecidas como redes neurais profundas. Essas redes são compostas por camadas de neurônios artificiais interconectados, que processam e aprendem com dados de forma iterativa.\n",
            "\n",
            "**Como funciona o Deep Learning?**\n",
            "\n",
            "As redes neurais profundas são treinadas em grandes conjuntos de dados usando algoritmos de aprendizado de máquina. Durante o treinamento, os pesos e vieses das conexões entre os neurônios são ajustados para minimizar uma função de perda, que mede o quão bem a rede está executando uma determinada tarefa.\n",
            "\n",
            "À medida que a rede é treinada, ela aprende a extrair recursos de dados não estruturados, como imagens, texto e áudio. Essas representações aprendidas são então usadas para executar tarefas como:\n",
            "\n",
            "* **Classificação:** Atribuir rótulos a dados de entrada, como identificar objetos em imagens.\n",
            "* **Regressão:** Prever valores contínuos, como o preço de uma ação ou a temperatura.\n",
            "* **Processamento de linguagem natural (PNL):** Entender e gerar linguagem humana.\n",
            "* **Visão computacional:** Analisar e interpretar imagens e vídeos.\n",
            "\n",
            "**Características do Deep Learning**\n",
            "\n",
            "* **Hierarquia de representações:** As redes neurais profundas aprendem representações hierárquicas de dados, com camadas mais baixas detectando recursos simples e camadas mais altas combinando-os para formar representações mais complexas.\n",
            "* **Aprendizado não supervisionado:** As redes neurais profundas podem aprender com dados não rotulados, descobrindo padrões e estruturas por conta própria.\n",
            "* **Grande volume de dados:** As redes neurais profundas requerem grandes conjuntos de dados para treinamento eficaz.\n",
            "* **Alta computação:** O treinamento de redes neurais profundas pode ser computacionalmente caro, exigindo unidades de processamento gráfico (GPUs) ou processadores especializados.\n",
            "\n",
            "**Aplicações do Deep Learning**\n",
            "\n",
            "O Deep Learning encontrou uma ampla gama de aplicações em vários setores, incluindo:\n",
            "\n",
            "* Reconhecimento de imagem e vídeo\n",
            "* Processamento de linguagem natural\n",
            "* Veículos autônomos\n",
            "* Diagnóstico médico\n",
            "* Análise financeira\n",
            "* Detecção de fraude\n"
          ]
        }
      ]
    },
    {
      "cell_type": "markdown",
      "source": [
        "Incializar o chat"
      ],
      "metadata": {
        "id": "QescqgFOVDIv"
      }
    },
    {
      "cell_type": "code",
      "source": [
        "chat = model.start_chat(history=[])"
      ],
      "metadata": {
        "id": "7fRT8juhUtcz"
      },
      "execution_count": 18,
      "outputs": []
    },
    {
      "cell_type": "markdown",
      "source": [
        "Inciando chat"
      ],
      "metadata": {
        "id": "mBsP9aLFXTGc"
      }
    },
    {
      "cell_type": "code",
      "source": [
        "prompt = input(\"Esperando a chamada: \")\n",
        "\n",
        "while prompt != \"sair\":\n",
        "  response = chat.send_message(prompt)\n",
        "  print(\"Resposta: \", response.text, \"\\n\")\n",
        "  prompt = input(\"Aguardando nova chamada: \")"
      ],
      "metadata": {
        "colab": {
          "base_uri": "https://localhost:8080/",
          "height": 402
        },
        "id": "hS7GLhQxVHs1",
        "outputId": "21f88062-f698-46f3-e6a5-cee0200319f0"
      },
      "execution_count": 19,
      "outputs": [
        {
          "name": "stdout",
          "output_type": "stream",
          "text": [
            "Esperando a chamada: qual capital da Alemanha?\n",
            "Resposta:  Berlim \n",
            "\n",
            "Aguardando nova chamada: Qual a comida tipica desse pais?\n",
            "Resposta:  Bratwurst (salsicha grelhada)\n",
            "Sauerkraut (repolho fermentado)\n",
            "Pretzel (pãozinho em formato de nó)\n",
            "Schnitzel (bife à milanesa)\n",
            "Knödel (bolinhos de pão)\n",
            "Spätzle (macarrão tipo nhoque)\n",
            "Flammkuchen (pizza fina com creme de leite, cebola e bacon)\n",
            "Currywurst (salsicha de porco com molho de curry)\n",
            "Maultaschen (ravióli grande recheado com carne, pão e espinafre)\n",
            "Eisbein (joelho de porco assado) \n",
            "\n",
            "Aguardando nova chamada: Qual a raiz quadrada de 25?\n",
            "Resposta:  5\n",
            "\n",
            "A raiz quadrada de 25 é o número que, quando multiplicado por si mesmo, resulta em 25. Esse número é 5, pois 5 x 5 = 25. \n",
            "\n",
            "Aguardando nova chamada: sair\n"
          ]
        }
      ]
    },
    {
      "cell_type": "code",
      "source": [
        "chat.history"
      ],
      "metadata": {
        "colab": {
          "base_uri": "https://localhost:8080/"
        },
        "id": "kU41uWrAXaII",
        "outputId": "a23044f0-3775-41c4-f9e5-1c1a0de794ba"
      },
      "execution_count": 20,
      "outputs": [
        {
          "output_type": "execute_result",
          "data": {
            "text/plain": [
              "[parts {\n",
              "   text: \"qual capital da Alemanha?\"\n",
              " }\n",
              " role: \"user\",\n",
              " parts {\n",
              "   text: \"Berlim\"\n",
              " }\n",
              " role: \"model\",\n",
              " parts {\n",
              "   text: \"Qual a comida tipica desse pais?\"\n",
              " }\n",
              " role: \"user\",\n",
              " parts {\n",
              "   text: \"Bratwurst (salsicha grelhada)\\nSauerkraut (repolho fermentado)\\nPretzel (p\\303\\243ozinho em formato de n\\303\\263)\\nSchnitzel (bife \\303\\240 milanesa)\\nKn\\303\\266del (bolinhos de p\\303\\243o)\\nSp\\303\\244tzle (macarr\\303\\243o tipo nhoque)\\nFlammkuchen (pizza fina com creme de leite, cebola e bacon)\\nCurrywurst (salsicha de porco com molho de curry)\\nMaultaschen (ravi\\303\\263li grande recheado com carne, p\\303\\243o e espinafre)\\nEisbein (joelho de porco assado)\"\n",
              " }\n",
              " role: \"model\",\n",
              " parts {\n",
              "   text: \"Qual a raiz quadrada de 25?\"\n",
              " }\n",
              " role: \"user\",\n",
              " parts {\n",
              "   text: \"5\\n\\nA raiz quadrada de 25 \\303\\251 o n\\303\\272mero que, quando multiplicado por si mesmo, resulta em 25. Esse n\\303\\272mero \\303\\251 5, pois 5 x 5 = 25.\"\n",
              " }\n",
              " role: \"model\"]"
            ]
          },
          "metadata": {},
          "execution_count": 20
        }
      ]
    }
  ]
}